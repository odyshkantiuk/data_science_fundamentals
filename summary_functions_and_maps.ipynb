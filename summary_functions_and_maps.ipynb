{
 "cells": [
  {
   "cell_type": "markdown",
   "id": "31bad050",
   "metadata": {},
   "source": [
    "## Початкове завантаження бібліотек та набору даних"
   ]
  },
  {
   "cell_type": "code",
   "execution_count": 1,
   "id": "7241c827",
   "metadata": {},
   "outputs": [],
   "source": [
    "import pandas as pd\n",
    "import numpy as np"
   ]
  },
  {
   "cell_type": "code",
   "execution_count": 2,
   "id": "4205cdcd",
   "metadata": {},
   "outputs": [],
   "source": [
    "covid_data = pd.read_csv(\"covid-variants.csv\")"
   ]
  },
  {
   "cell_type": "code",
   "execution_count": 3,
   "id": "3825d6df",
   "metadata": {},
   "outputs": [
    {
     "data": {
      "text/html": [
       "<div>\n",
       "<style scoped>\n",
       "    .dataframe tbody tr th:only-of-type {\n",
       "        vertical-align: middle;\n",
       "    }\n",
       "\n",
       "    .dataframe tbody tr th {\n",
       "        vertical-align: top;\n",
       "    }\n",
       "\n",
       "    .dataframe thead th {\n",
       "        text-align: right;\n",
       "    }\n",
       "</style>\n",
       "<table border=\"1\" class=\"dataframe\">\n",
       "  <thead>\n",
       "    <tr style=\"text-align: right;\">\n",
       "      <th></th>\n",
       "      <th>location</th>\n",
       "      <th>date</th>\n",
       "      <th>variant</th>\n",
       "      <th>num_sequences</th>\n",
       "      <th>perc_sequences</th>\n",
       "      <th>num_sequences_total</th>\n",
       "    </tr>\n",
       "  </thead>\n",
       "  <tbody>\n",
       "    <tr>\n",
       "      <th>0</th>\n",
       "      <td>Angola</td>\n",
       "      <td>2020-07-06</td>\n",
       "      <td>Alpha</td>\n",
       "      <td>0</td>\n",
       "      <td>0.0</td>\n",
       "      <td>3</td>\n",
       "    </tr>\n",
       "    <tr>\n",
       "      <th>1</th>\n",
       "      <td>Angola</td>\n",
       "      <td>2020-07-06</td>\n",
       "      <td>B.1.1.277</td>\n",
       "      <td>0</td>\n",
       "      <td>0.0</td>\n",
       "      <td>3</td>\n",
       "    </tr>\n",
       "    <tr>\n",
       "      <th>2</th>\n",
       "      <td>Angola</td>\n",
       "      <td>2020-07-06</td>\n",
       "      <td>B.1.1.302</td>\n",
       "      <td>0</td>\n",
       "      <td>0.0</td>\n",
       "      <td>3</td>\n",
       "    </tr>\n",
       "    <tr>\n",
       "      <th>3</th>\n",
       "      <td>Angola</td>\n",
       "      <td>2020-07-06</td>\n",
       "      <td>B.1.1.519</td>\n",
       "      <td>0</td>\n",
       "      <td>0.0</td>\n",
       "      <td>3</td>\n",
       "    </tr>\n",
       "    <tr>\n",
       "      <th>4</th>\n",
       "      <td>Angola</td>\n",
       "      <td>2020-07-06</td>\n",
       "      <td>B.1.160</td>\n",
       "      <td>0</td>\n",
       "      <td>0.0</td>\n",
       "      <td>3</td>\n",
       "    </tr>\n",
       "    <tr>\n",
       "      <th>...</th>\n",
       "      <td>...</td>\n",
       "      <td>...</td>\n",
       "      <td>...</td>\n",
       "      <td>...</td>\n",
       "      <td>...</td>\n",
       "      <td>...</td>\n",
       "    </tr>\n",
       "    <tr>\n",
       "      <th>100411</th>\n",
       "      <td>Zimbabwe</td>\n",
       "      <td>2021-11-01</td>\n",
       "      <td>Omicron</td>\n",
       "      <td>0</td>\n",
       "      <td>0.0</td>\n",
       "      <td>6</td>\n",
       "    </tr>\n",
       "    <tr>\n",
       "      <th>100412</th>\n",
       "      <td>Zimbabwe</td>\n",
       "      <td>2021-11-01</td>\n",
       "      <td>S:677H.Robin1</td>\n",
       "      <td>0</td>\n",
       "      <td>0.0</td>\n",
       "      <td>6</td>\n",
       "    </tr>\n",
       "    <tr>\n",
       "      <th>100413</th>\n",
       "      <td>Zimbabwe</td>\n",
       "      <td>2021-11-01</td>\n",
       "      <td>S:677P.Pelican</td>\n",
       "      <td>0</td>\n",
       "      <td>0.0</td>\n",
       "      <td>6</td>\n",
       "    </tr>\n",
       "    <tr>\n",
       "      <th>100414</th>\n",
       "      <td>Zimbabwe</td>\n",
       "      <td>2021-11-01</td>\n",
       "      <td>others</td>\n",
       "      <td>0</td>\n",
       "      <td>0.0</td>\n",
       "      <td>6</td>\n",
       "    </tr>\n",
       "    <tr>\n",
       "      <th>100415</th>\n",
       "      <td>Zimbabwe</td>\n",
       "      <td>2021-11-01</td>\n",
       "      <td>non_who</td>\n",
       "      <td>0</td>\n",
       "      <td>0.0</td>\n",
       "      <td>6</td>\n",
       "    </tr>\n",
       "  </tbody>\n",
       "</table>\n",
       "<p>100416 rows × 6 columns</p>\n",
       "</div>"
      ],
      "text/plain": [
       "        location        date         variant  num_sequences  perc_sequences  \\\n",
       "0         Angola  2020-07-06           Alpha              0             0.0   \n",
       "1         Angola  2020-07-06       B.1.1.277              0             0.0   \n",
       "2         Angola  2020-07-06       B.1.1.302              0             0.0   \n",
       "3         Angola  2020-07-06       B.1.1.519              0             0.0   \n",
       "4         Angola  2020-07-06         B.1.160              0             0.0   \n",
       "...          ...         ...             ...            ...             ...   \n",
       "100411  Zimbabwe  2021-11-01         Omicron              0             0.0   \n",
       "100412  Zimbabwe  2021-11-01   S:677H.Robin1              0             0.0   \n",
       "100413  Zimbabwe  2021-11-01  S:677P.Pelican              0             0.0   \n",
       "100414  Zimbabwe  2021-11-01          others              0             0.0   \n",
       "100415  Zimbabwe  2021-11-01         non_who              0             0.0   \n",
       "\n",
       "        num_sequences_total  \n",
       "0                         3  \n",
       "1                         3  \n",
       "2                         3  \n",
       "3                         3  \n",
       "4                         3  \n",
       "...                     ...  \n",
       "100411                    6  \n",
       "100412                    6  \n",
       "100413                    6  \n",
       "100414                    6  \n",
       "100415                    6  \n",
       "\n",
       "[100416 rows x 6 columns]"
      ]
     },
     "execution_count": 3,
     "metadata": {},
     "output_type": "execute_result"
    }
   ],
   "source": [
    "covid_data"
   ]
  },
  {
   "cell_type": "markdown",
   "id": "b0856960",
   "metadata": {},
   "source": [
    "## Застосування підсумкових функцій"
   ]
  },
  {
   "cell_type": "code",
   "execution_count": 4,
   "id": "65d16dea",
   "metadata": {},
   "outputs": [
    {
     "data": {
      "text/plain": [
       "count    100416.000000\n",
       "mean          6.154355\n",
       "std          21.898989\n",
       "min          -0.010000\n",
       "25%           0.000000\n",
       "50%           0.000000\n",
       "75%           0.000000\n",
       "max         100.000000\n",
       "Name: perc_sequences, dtype: float64"
      ]
     },
     "execution_count": 4,
     "metadata": {},
     "output_type": "execute_result"
    }
   ],
   "source": [
    "# Вивід загального опису параметрів стовпця \"variant\" (штампів вірусу)\n",
    "covid_data.perc_sequences.describe()"
   ]
  },
  {
   "cell_type": "code",
   "execution_count": 5,
   "id": "267ae1c4",
   "metadata": {},
   "outputs": [
    {
     "data": {
      "text/plain": [
       "1509.5824569789675"
      ]
     },
     "execution_count": 5,
     "metadata": {},
     "output_type": "execute_result"
    }
   ],
   "source": [
    "# Вивід середнього значення (загальної кількості cеквенування ДНК для цієї країни на конкретну дату) по стовпцю \"num_sequences_total\"\n",
    "covid_data.num_sequences_total.mean()"
   ]
  },
  {
   "cell_type": "code",
   "execution_count": 6,
   "id": "a5c0d3ae",
   "metadata": {},
   "outputs": [
    {
     "data": {
      "text/plain": [
       "array(['Alpha', 'B.1.1.277', 'B.1.1.302', 'B.1.1.519', 'B.1.160',\n",
       "       'B.1.177', 'B.1.221', 'B.1.258', 'B.1.367', 'B.1.620', 'Beta',\n",
       "       'Delta', 'Epsilon', 'Eta', 'Gamma', 'Iota', 'Kappa', 'Lambda',\n",
       "       'Mu', 'Omicron', 'S:677H.Robin1', 'S:677P.Pelican', 'others',\n",
       "       'non_who'], dtype=object)"
      ]
     },
     "execution_count": 6,
     "metadata": {},
     "output_type": "execute_result"
    }
   ],
   "source": [
    "# Вивід унікальних значень (певного штаму вірусу) по стовпцю \"variant\", тип object\n",
    "covid_data.variant.unique()"
   ]
  },
  {
   "cell_type": "code",
   "execution_count": 7,
   "id": "c128f4bd",
   "metadata": {
    "scrolled": true
   },
   "outputs": [
    {
     "data": {
      "text/plain": [
       "Bangladesh        1080\n",
       "Belgium           1080\n",
       "United States     1080\n",
       "United Kingdom    1080\n",
       "France            1080\n",
       "                  ... \n",
       "Montenegro         384\n",
       "Monaco             360\n",
       "Fiji               336\n",
       "Benin              336\n",
       "Brunei             240\n",
       "Name: location, Length: 121, dtype: int64"
      ]
     },
     "execution_count": 7,
     "metadata": {},
     "output_type": "execute_result"
    }
   ],
   "source": [
    "# Вивід унікальних значень (країн) і як часто вони трапляються по стовпцю \"location\"\n",
    "covid_data.location.value_counts()"
   ]
  },
  {
   "cell_type": "code",
   "execution_count": 8,
   "id": "2d8527fb",
   "metadata": {},
   "outputs": [
    {
     "data": {
      "text/plain": [
       "0        -99.801270\n",
       "1        -99.801270\n",
       "2        -99.801270\n",
       "3        -99.801270\n",
       "4        -99.801270\n",
       "            ...    \n",
       "100411   -99.602539\n",
       "100412   -99.602539\n",
       "100413   -99.602539\n",
       "100414   -99.602539\n",
       "100415   -99.602539\n",
       "Name: num_sequences_total, Length: 100416, dtype: float64"
      ]
     },
     "execution_count": 8,
     "metadata": {},
     "output_type": "execute_result"
    }
   ],
   "source": [
    "# Вивід відсоткового відхилення загальної кількості cеквенування ДНК для цієї країни на конкретну дату від середнього\n",
    "num_sequences_total_mean = covid_data.num_sequences_total.mean()\n",
    "covid_data.num_sequences_total.map(lambda n: ((n - num_sequences_total_mean) / num_sequences_total_mean) * 100)"
   ]
  },
  {
   "cell_type": "code",
   "execution_count": 9,
   "id": "92bf7ce5",
   "metadata": {},
   "outputs": [
    {
     "data": {
      "text/plain": [
       "0         Low\n",
       "1         Low\n",
       "2         Low\n",
       "3         Low\n",
       "4         Low\n",
       "         ... \n",
       "100411    Low\n",
       "100412    Low\n",
       "100413    Low\n",
       "100414    Low\n",
       "100415    Low\n",
       "Name: num_sequences_total, Length: 100416, dtype: object"
      ]
     },
     "execution_count": 9,
     "metadata": {},
     "output_type": "execute_result"
    }
   ],
   "source": [
    "# Визначаємо межі третин загальної кількості cеквенування ДНК для цієї країни на конкретну дату\n",
    "q1 = covid_data.num_sequences_total.quantile(0.33) # Визначаємо межу для нижньої чверті значень, тобто межу 33%\n",
    "q2 = covid_data.num_sequences_total.quantile(0.66) # Визначаємо межу для верхньої чверті значень, тобто межу 66%\n",
    "# Вивід загальної кількості cеквенування ДНК для цієї країни на конкретну дату у вигляді категорій\n",
    "covid_data.num_sequences_total.map(lambda n: 'High' if n > q2 else 'Medium' if n > q1 else 'Low')"
   ]
  },
  {
   "cell_type": "code",
   "execution_count": 10,
   "id": "e271285f",
   "metadata": {},
   "outputs": [
    {
     "data": {
      "text/plain": [
       "High      34080\n",
       "Low       33696\n",
       "Medium    32640\n",
       "Name: num_sequences_total, dtype: int64"
      ]
     },
     "execution_count": 10,
     "metadata": {},
     "output_type": "execute_result"
    }
   ],
   "source": [
    "# Вивід унікальних значень загальної кількості cеквенування ДНК для цієї країни на конкретну дату у вигляді категорій і як часто вони трапляються\n",
    "covid_data.num_sequences_total.map(lambda n: 'High' if n > q2 else 'Medium' if n > q1 else 'Low').value_counts()"
   ]
  },
  {
   "cell_type": "code",
   "execution_count": 11,
   "id": "86517359",
   "metadata": {
    "scrolled": false
   },
   "outputs": [
    {
     "data": {
      "text/html": [
       "<div>\n",
       "<style scoped>\n",
       "    .dataframe tbody tr th:only-of-type {\n",
       "        vertical-align: middle;\n",
       "    }\n",
       "\n",
       "    .dataframe tbody tr th {\n",
       "        vertical-align: top;\n",
       "    }\n",
       "\n",
       "    .dataframe thead th {\n",
       "        text-align: right;\n",
       "    }\n",
       "</style>\n",
       "<table border=\"1\" class=\"dataframe\">\n",
       "  <thead>\n",
       "    <tr style=\"text-align: right;\">\n",
       "      <th></th>\n",
       "      <th>location</th>\n",
       "      <th>date</th>\n",
       "      <th>variant</th>\n",
       "      <th>num_sequences</th>\n",
       "      <th>perc_sequences</th>\n",
       "      <th>num_sequences_total</th>\n",
       "    </tr>\n",
       "  </thead>\n",
       "  <tbody>\n",
       "    <tr>\n",
       "      <th>0</th>\n",
       "      <td>Angola</td>\n",
       "      <td>2020-07-06</td>\n",
       "      <td>Alpha</td>\n",
       "      <td>0</td>\n",
       "      <td>The percentage of processed sequences is less ...</td>\n",
       "      <td>-1506.582457</td>\n",
       "    </tr>\n",
       "    <tr>\n",
       "      <th>1</th>\n",
       "      <td>Angola</td>\n",
       "      <td>2020-07-06</td>\n",
       "      <td>B.1.1.277</td>\n",
       "      <td>0</td>\n",
       "      <td>The percentage of processed sequences is less ...</td>\n",
       "      <td>-1506.582457</td>\n",
       "    </tr>\n",
       "    <tr>\n",
       "      <th>2</th>\n",
       "      <td>Angola</td>\n",
       "      <td>2020-07-06</td>\n",
       "      <td>B.1.1.302</td>\n",
       "      <td>0</td>\n",
       "      <td>The percentage of processed sequences is less ...</td>\n",
       "      <td>-1506.582457</td>\n",
       "    </tr>\n",
       "    <tr>\n",
       "      <th>3</th>\n",
       "      <td>Angola</td>\n",
       "      <td>2020-07-06</td>\n",
       "      <td>B.1.1.519</td>\n",
       "      <td>0</td>\n",
       "      <td>The percentage of processed sequences is less ...</td>\n",
       "      <td>-1506.582457</td>\n",
       "    </tr>\n",
       "    <tr>\n",
       "      <th>4</th>\n",
       "      <td>Angola</td>\n",
       "      <td>2020-07-06</td>\n",
       "      <td>B.1.160</td>\n",
       "      <td>0</td>\n",
       "      <td>The percentage of processed sequences is less ...</td>\n",
       "      <td>-1506.582457</td>\n",
       "    </tr>\n",
       "    <tr>\n",
       "      <th>...</th>\n",
       "      <td>...</td>\n",
       "      <td>...</td>\n",
       "      <td>...</td>\n",
       "      <td>...</td>\n",
       "      <td>...</td>\n",
       "      <td>...</td>\n",
       "    </tr>\n",
       "    <tr>\n",
       "      <th>100411</th>\n",
       "      <td>Zimbabwe</td>\n",
       "      <td>2021-11-01</td>\n",
       "      <td>Omicron</td>\n",
       "      <td>0</td>\n",
       "      <td>The percentage of processed sequences is less ...</td>\n",
       "      <td>-1503.582457</td>\n",
       "    </tr>\n",
       "    <tr>\n",
       "      <th>100412</th>\n",
       "      <td>Zimbabwe</td>\n",
       "      <td>2021-11-01</td>\n",
       "      <td>S:677H.Robin1</td>\n",
       "      <td>0</td>\n",
       "      <td>The percentage of processed sequences is less ...</td>\n",
       "      <td>-1503.582457</td>\n",
       "    </tr>\n",
       "    <tr>\n",
       "      <th>100413</th>\n",
       "      <td>Zimbabwe</td>\n",
       "      <td>2021-11-01</td>\n",
       "      <td>S:677P.Pelican</td>\n",
       "      <td>0</td>\n",
       "      <td>The percentage of processed sequences is less ...</td>\n",
       "      <td>-1503.582457</td>\n",
       "    </tr>\n",
       "    <tr>\n",
       "      <th>100414</th>\n",
       "      <td>Zimbabwe</td>\n",
       "      <td>2021-11-01</td>\n",
       "      <td>others</td>\n",
       "      <td>0</td>\n",
       "      <td>The percentage of processed sequences is less ...</td>\n",
       "      <td>-1503.582457</td>\n",
       "    </tr>\n",
       "    <tr>\n",
       "      <th>100415</th>\n",
       "      <td>Zimbabwe</td>\n",
       "      <td>2021-11-01</td>\n",
       "      <td>non_who</td>\n",
       "      <td>0</td>\n",
       "      <td>The percentage of processed sequences is less ...</td>\n",
       "      <td>-1503.582457</td>\n",
       "    </tr>\n",
       "  </tbody>\n",
       "</table>\n",
       "<p>100416 rows × 6 columns</p>\n",
       "</div>"
      ],
      "text/plain": [
       "        location        date         variant  num_sequences  \\\n",
       "0         Angola  2020-07-06           Alpha              0   \n",
       "1         Angola  2020-07-06       B.1.1.277              0   \n",
       "2         Angola  2020-07-06       B.1.1.302              0   \n",
       "3         Angola  2020-07-06       B.1.1.519              0   \n",
       "4         Angola  2020-07-06         B.1.160              0   \n",
       "...          ...         ...             ...            ...   \n",
       "100411  Zimbabwe  2021-11-01         Omicron              0   \n",
       "100412  Zimbabwe  2021-11-01   S:677H.Robin1              0   \n",
       "100413  Zimbabwe  2021-11-01  S:677P.Pelican              0   \n",
       "100414  Zimbabwe  2021-11-01          others              0   \n",
       "100415  Zimbabwe  2021-11-01         non_who              0   \n",
       "\n",
       "                                           perc_sequences  num_sequences_total  \n",
       "0       The percentage of processed sequences is less ...         -1506.582457  \n",
       "1       The percentage of processed sequences is less ...         -1506.582457  \n",
       "2       The percentage of processed sequences is less ...         -1506.582457  \n",
       "3       The percentage of processed sequences is less ...         -1506.582457  \n",
       "4       The percentage of processed sequences is less ...         -1506.582457  \n",
       "...                                                   ...                  ...  \n",
       "100411  The percentage of processed sequences is less ...         -1503.582457  \n",
       "100412  The percentage of processed sequences is less ...         -1503.582457  \n",
       "100413  The percentage of processed sequences is less ...         -1503.582457  \n",
       "100414  The percentage of processed sequences is less ...         -1503.582457  \n",
       "100415  The percentage of processed sequences is less ...         -1503.582457  \n",
       "\n",
       "[100416 rows x 6 columns]"
      ]
     },
     "execution_count": 11,
     "metadata": {},
     "output_type": "execute_result"
    }
   ],
   "source": [
    "def remean_sequences(row):\n",
    "    # Вивід загальної кількості cеквенування ДНК для цієї країни на конкретну дату де за нульове значення вибрано середнє значення\n",
    "    row.num_sequences_total = row.num_sequences_total - num_sequences_total_mean \n",
    "    # Вивід чи відсоток оброблених cеквенування ДНК від загальної кількості cеквенування перевищує 50%\n",
    "    if row.perc_sequences > 50:\n",
    "        row.perc_sequences ='The percentage of processed sequences is more than half'\n",
    "    else:\n",
    "        row.perc_sequences ='The percentage of processed sequences is less than half'\n",
    "    return row\n",
    "\n",
    "covid_data.apply(remean_sequences, axis='columns')"
   ]
  },
  {
   "cell_type": "code",
   "execution_count": 12,
   "id": "66a59d33",
   "metadata": {},
   "outputs": [
    {
     "data": {
      "text/plain": [
       "0        -1506.582457\n",
       "1        -1506.582457\n",
       "2        -1506.582457\n",
       "3        -1506.582457\n",
       "4        -1506.582457\n",
       "             ...     \n",
       "100411   -1503.582457\n",
       "100412   -1503.582457\n",
       "100413   -1503.582457\n",
       "100414   -1503.582457\n",
       "100415   -1503.582457\n",
       "Name: num_sequences_total, Length: 100416, dtype: float64"
      ]
     },
     "execution_count": 12,
     "metadata": {},
     "output_type": "execute_result"
    }
   ],
   "source": [
    "# Вивід загальної кількості cеквенування ДНК для цієї країни на конкретну дату де за нульове значення вибрано середнє значення через вбудовані операції над стовпцями\n",
    "covid_data.num_sequences_total - num_sequences_total_mean"
   ]
  },
  {
   "cell_type": "code",
   "execution_count": 13,
   "id": "cb846401",
   "metadata": {
    "scrolled": true
   },
   "outputs": [
    {
     "data": {
      "text/plain": [
       "0                    Angola - Alpha\n",
       "1                Angola - B.1.1.277\n",
       "2                Angola - B.1.1.302\n",
       "3                Angola - B.1.1.519\n",
       "4                  Angola - B.1.160\n",
       "                    ...            \n",
       "100411           Zimbabwe - Omicron\n",
       "100412     Zimbabwe - S:677H.Robin1\n",
       "100413    Zimbabwe - S:677P.Pelican\n",
       "100414            Zimbabwe - others\n",
       "100415           Zimbabwe - non_who\n",
       "Length: 100416, dtype: object"
      ]
     },
     "execution_count": 13,
     "metadata": {},
     "output_type": "execute_result"
    }
   ],
   "source": [
    "# Вивід відношення локації до відсотку оброблених cеквенування ДНК від загальної кількості cеквенування\n",
    "covid_data.location + \" - \" + covid_data.variant"
   ]
  }
 ],
 "metadata": {
  "kernelspec": {
   "display_name": "Python 3 (ipykernel)",
   "language": "python",
   "name": "python3"
  },
  "language_info": {
   "codemirror_mode": {
    "name": "ipython",
    "version": 3
   },
   "file_extension": ".py",
   "mimetype": "text/x-python",
   "name": "python",
   "nbconvert_exporter": "python",
   "pygments_lexer": "ipython3",
   "version": "3.10.9"
  }
 },
 "nbformat": 4,
 "nbformat_minor": 5
}
